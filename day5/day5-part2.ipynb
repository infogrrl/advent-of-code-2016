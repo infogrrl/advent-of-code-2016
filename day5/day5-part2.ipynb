{
 "cells": [
  {
   "cell_type": "code",
   "execution_count": 2,
   "metadata": {
    "collapsed": false
   },
   "outputs": [
    {
     "name": "stdout",
     "output_type": "stream",
     "text": [
      "['_', '_', '_', '_', '_', '_', '_', '_']\n",
      "uqwqemis4515059\n",
      "['_', '9', '_', '_', '_', '_', '_', '_']\n",
      "<md5 HASH object @ 0x000001991A40B850>\n",
      "00000191970e97b86ecd2220e76d86b2\n",
      "00000\n",
      "1\n",
      "9\n",
      "1\n",
      "uqwqemis8038154\n",
      "['_', '9', '_', '1', '_', '_', '_', '_']\n",
      "<md5 HASH object @ 0x000001991A40BCB0>\n",
      "00000312234ca27718d52476a44c257c\n",
      "00000\n",
      "3\n",
      "1\n",
      "2\n",
      "uqwqemis13432968\n",
      "['6', '9', '_', '1', '_', '_', '_', '_']\n",
      "<md5 HASH object @ 0x000001991A40BE90>\n",
      "00000064ec7123bedfc9ff00cc4f55f2\n",
      "00000\n",
      "0\n",
      "6\n",
      "3\n",
      "uqwqemis17743256\n",
      "['6', '9', '4', '1', '_', '_', '_', '_']\n",
      "<md5 HASH object @ 0x000001991A40B850>\n",
      "000002457920bc00c2bd4d769a3da01c\n",
      "00000\n",
      "2\n",
      "4\n",
      "4\n",
      "uqwqemis19112977\n",
      "['6', '9', '4', '1', '_', '0', '_', '_']\n",
      "<md5 HASH object @ 0x000001991A40BDF0>\n",
      "000005074f875107f82b4ffb39a1fbf0\n",
      "00000\n",
      "5\n",
      "0\n",
      "5\n",
      "uqwqemis20616595\n",
      "['6', '9', '4', '1', '9', '0', '_', '_']\n",
      "<md5 HASH object @ 0x000001991A40B850>\n",
      "0000049d19713e17d7d93e9b1f02c856\n",
      "00000\n",
      "4\n",
      "9\n",
      "6\n",
      "uqwqemis21658552\n",
      "['6', '9', '4', '1', '9', '0', 'c', '_']\n",
      "<md5 HASH object @ 0x000001991A40BE90>\n",
      "000006c0b6e2bfeabd18eb400b3aecf7\n",
      "00000\n",
      "6\n",
      "c\n",
      "7\n",
      "uqwqemis26326685\n",
      "['6', '9', '4', '1', '9', '0', 'c', 'd']\n",
      "<md5 HASH object @ 0x000001991A40B850>\n",
      "000007d44ea65d0437b810035fec92f2\n",
      "00000\n",
      "7\n",
      "d\n",
      "8\n",
      "694190cd\n"
     ]
    }
   ],
   "source": [
    "import hashlib\n",
    "import binascii\n",
    "\n",
    "password_gen = list('________')\n",
    "print(password_gen)\n",
    "password_len = 0\n",
    "#puzzle_input = 'abc'\n",
    "puzzle_input = 'uqwqemis'\n",
    "i = 0\n",
    "#i = 3231929\n",
    "\n",
    "while (password_len < 8):\n",
    "    to_hash = puzzle_input + str(i)\n",
    "    m = hashlib.md5(binascii.a2b_qp(to_hash))\n",
    "    p = m.hexdigest()\n",
    "    first_five = str(p[:5])\n",
    "    \n",
    "    if (first_five == '00000'):\n",
    "        n = p[5:6]\n",
    "        if (n.isdigit()):\n",
    "            n = int(n)\n",
    "            if (n < 8):\n",
    "                if (password_gen[n]=='_'):\n",
    "                    print(to_hash)\n",
    "                    o = p[6:7]\n",
    "                    password_gen[n] = o\n",
    "                    print(password_gen)\n",
    "                    print(m)\n",
    "                    print(p)\n",
    "                    print(first_five)\n",
    "                    print(n)\n",
    "                    print(o)\n",
    "                    password_len = password_len + 1\n",
    "                    print(password_len)\n",
    "    i = i + 1\n",
    "a = ''.join(password_gen)\n",
    "print(a)"
   ]
  },
  {
   "cell_type": "code",
   "execution_count": null,
   "metadata": {
    "collapsed": false
   },
   "outputs": [],
   "source": []
  },
  {
   "cell_type": "code",
   "execution_count": null,
   "metadata": {
    "collapsed": true
   },
   "outputs": [],
   "source": []
  }
 ],
 "metadata": {
  "anaconda-cloud": {},
  "kernelspec": {
   "display_name": "Python [default]",
   "language": "python",
   "name": "python3"
  },
  "language_info": {
   "codemirror_mode": {
    "name": "ipython",
    "version": 3
   },
   "file_extension": ".py",
   "mimetype": "text/x-python",
   "name": "python",
   "nbconvert_exporter": "python",
   "pygments_lexer": "ipython3",
   "version": "3.5.2"
  }
 },
 "nbformat": 4,
 "nbformat_minor": 1
}
