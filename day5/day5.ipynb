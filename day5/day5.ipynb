{
 "cells": [
  {
   "cell_type": "code",
   "execution_count": 1,
   "metadata": {
    "collapsed": false
   },
   "outputs": [
    {
     "name": "stdout",
     "output_type": "stream",
     "text": [
      "uqwqemis4515059\n",
      "<md5 HASH object @ 0x000001BAF9C82580>\n",
      "00000191970e97b86ecd2220e76d86b2\n",
      "00000\n",
      "1\n",
      "1\n",
      "1\n",
      "uqwqemis6924074\n",
      "<md5 HASH object @ 0x000001BAF9C82580>\n",
      "00000a1568b97dfc4736c4248df549b3\n",
      "00000\n",
      "a\n",
      "1a\n",
      "2\n",
      "uqwqemis8038154\n",
      "<md5 HASH object @ 0x000001BAF9C82F80>\n",
      "00000312234ca27718d52476a44c257c\n",
      "00000\n",
      "3\n",
      "1a3\n",
      "3\n",
      "uqwqemis13432968\n",
      "<md5 HASH object @ 0x000001BAF9C82580>\n",
      "00000064ec7123bedfc9ff00cc4f55f2\n",
      "00000\n",
      "0\n",
      "1a30\n",
      "4\n",
      "uqwqemis13540621\n",
      "<md5 HASH object @ 0x000001BAF9C82C60>\n",
      "0000091c9c2cd243304328869af7bab2\n",
      "00000\n",
      "9\n",
      "1a309\n",
      "5\n",
      "uqwqemis14095580\n",
      "<md5 HASH object @ 0x000001BAF9C82580>\n",
      "0000096753dd21d352853f1d97e19d01\n",
      "00000\n",
      "9\n",
      "1a3099\n",
      "6\n",
      "uqwqemis14821988\n",
      "<md5 HASH object @ 0x000001BAF9C82F80>\n",
      "00000a220003ca08164ab5fbe0b7c08f\n",
      "00000\n",
      "a\n",
      "1a3099a\n",
      "7\n",
      "uqwqemis16734551\n",
      "<md5 HASH object @ 0x000001BAF9C82C60>\n",
      "00000aaa1e7e216d6fb95a53fde7a594\n",
      "00000\n",
      "a\n",
      "1a3099aa\n",
      "8\n"
     ]
    }
   ],
   "source": [
    "import hashlib\n",
    "import binascii\n",
    "\n",
    "password_gen = ''\n",
    "password_len = 0\n",
    "#puzzle_input = 'abc'\n",
    "puzzle_input = 'uqwqemis'\n",
    "i = 0\n",
    "\n",
    "while (password_len < 8):\n",
    "    to_hash = puzzle_input + str(i)\n",
    "\n",
    "    m = hashlib.md5(binascii.a2b_qp(to_hash))\n",
    "    p = m.hexdigest()\n",
    "    first_five = str(p[:5])\n",
    "    \n",
    "    if (first_five == '00000'):\n",
    "        print(to_hash)\n",
    "        print(m)\n",
    "        print(p)\n",
    "        print(first_five)\n",
    "        n = p[5:6]\n",
    "        print(n)\n",
    "        password_gen = password_gen + n\n",
    "        print(password_gen)\n",
    "        password_len = password_len + 1\n",
    "        print(password_len)\n",
    "    i = i + 1"
   ]
  },
  {
   "cell_type": "code",
   "execution_count": null,
   "metadata": {
    "collapsed": false
   },
   "outputs": [],
   "source": []
  },
  {
   "cell_type": "code",
   "execution_count": null,
   "metadata": {
    "collapsed": true
   },
   "outputs": [],
   "source": []
  }
 ],
 "metadata": {
  "kernelspec": {
   "display_name": "Python [default]",
   "language": "python",
   "name": "python3"
  },
  "language_info": {
   "codemirror_mode": {
    "name": "ipython",
    "version": 3
   },
   "file_extension": ".py",
   "mimetype": "text/x-python",
   "name": "python",
   "nbconvert_exporter": "python",
   "pygments_lexer": "ipython3",
   "version": "3.5.2"
  }
 },
 "nbformat": 4,
 "nbformat_minor": 1
}
